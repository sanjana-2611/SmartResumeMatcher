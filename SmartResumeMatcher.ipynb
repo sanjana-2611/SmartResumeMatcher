{
 "cells": [
  {
   "cell_type": "code",
   "execution_count": null,
   "id": "67abaf48-4bd6-483f-9c55-f064fc648e2f",
   "metadata": {},
   "outputs": [
    {
     "name": "stdout",
     "output_type": "stream",
     "text": [
      "=== Resume Role Matcher (PDF Only) ===\n"
     ]
    }
   ],
   "source": [
    "import re\n",
    "import string\n",
    "from pdfminer.high_level import extract_text\n",
    "from sklearn.feature_extraction.text import CountVectorizer, ENGLISH_STOP_WORDS\n",
    "from sklearn.metrics.pairwise import cosine_similarity\n",
    "\n",
    "#Clean text function\n",
    "def clean_text(text):\n",
    "    text = text.lower()\n",
    "    text = re.sub(f\"[{string.punctuation}]\", \"\", text)\n",
    "    return text\n",
    "\n",
    "#Analyze against multiple roles\n",
    "def find_best_matching_role(resume_pdf_path, roles_dict):\n",
    "    try:\n",
    "        resume_text = extract_text(resume_pdf_path)\n",
    "    except Exception as e:\n",
    "        print(f\"⚠ Error reading PDF: {e}\")\n",
    "        return\n",
    "\n",
    "    resume_clean = clean_text(resume_text)\n",
    "\n",
    "    scores = []\n",
    "\n",
    "    for role, jd_text in roles_dict.items():\n",
    "        jd_clean = clean_text(jd_text)\n",
    "\n",
    "        # Vectorize\n",
    "        vectorizer = CountVectorizer().fit_transform([jd_clean, resume_clean])\n",
    "        vectors = vectorizer.toarray()\n",
    "        similarity = cosine_similarity([vectors[0]], [vectors[1]])[0][0]\n",
    "\n",
    "        scores.append((role, round(similarity * 100, 2)))\n",
    "\n",
    "    # Sort roles by match %\n",
    "    scores.sort(key=lambda x: x[1], reverse=True)\n",
    "\n",
    "    #Best matching role\n",
    "    best_role, best_score = scores[0]\n",
    "    print(\"\\nBest Matching Role Based on Your Resume:\")\n",
    "    print(f\"{best_role} — Match Score: {best_score}%\")\n",
    "\n",
    "    print(\"\\nFull Role Match Summary:\")\n",
    "    for role, score in scores:\n",
    "        print(f\"🔹 {role}: {score}%\")\n",
    "\n",
    "# === Define multiple software roles ===\n",
    "\n",
    "roles = {\n",
    "    \"Backend Developer\": \"\"\"\n",
    "        Experience in Python, Java, REST APIs, SQL, Django/Flask, Git, and Docker.\n",
    "        Strong understanding of databases, caching, and server-side logic.\n",
    "    \"\"\",\n",
    "    \"Frontend Developer\": \"\"\"\n",
    "        Proficient in JavaScript, React, HTML, CSS, Figma.\n",
    "        Experience in building responsive UI, web design principles, and performance optimization.\n",
    "    \"\"\",\n",
    "    \"Machine Learning Engineer\": \"\"\"\n",
    "        Strong foundation in Python, scikit-learn, pandas, NumPy, machine learning algorithms.\n",
    "        Experience with model training, deployment, and data preprocessing.\n",
    "    \"\"\",\n",
    "    \"DevOps Engineer\": \"\"\"\n",
    "        Experience in AWS, Docker, CI/CD, Jenkins, Kubernetes, Git, monitoring, and scripting.\n",
    "        Understanding of system architecture and deployment pipelines.\n",
    "    \"\"\",\n",
    "    \"Data Analyst\": \"\"\"\n",
    "        Skilled in SQL, Excel, Python, Power BI/Tableau, data visualization, and reporting.\n",
    "        Experience with data cleaning, ETL, and business metrics analysis.\n",
    "    \"\"\"\n",
    "}\n",
    "\n",
    "# === 🖨 Run the program ===\n",
    "print(\"=== Resume Role Matcher (PDF Only) ===\")\n",
    "resume_path = input(\"Enter full path to your resume PDF file: \")\n",
    "\n",
    "find_best_matching_role(resume_path, roles)"
   ]
  },
  {
   "cell_type": "code",
   "execution_count": null,
   "id": "90fc0b8f-ad4d-4dd5-924b-69fe8c8f6c1e",
   "metadata": {},
   "outputs": [],
   "source": []
  }
 ],
 "metadata": {
  "kernelspec": {
   "display_name": "Python 3 (ipykernel)",
   "language": "python",
   "name": "python3"
  },
  "language_info": {
   "codemirror_mode": {
    "name": "ipython",
    "version": 3
   },
   "file_extension": ".py",
   "mimetype": "text/x-python",
   "name": "python",
   "nbconvert_exporter": "python",
   "pygments_lexer": "ipython3",
   "version": "3.12.4"
  }
 },
 "nbformat": 4,
 "nbformat_minor": 5
}
